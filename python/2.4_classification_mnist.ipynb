{
 "cells": [
  {
   "cell_type": "markdown",
   "id": "51414f95-affd-4cba-b46a-c134e0e29e76",
   "metadata": {
    "tags": []
   },
   "source": [
    "# MNIST classification using a SGD classifier and Scikit-Learn functions"
   ]
  },
  {
   "cell_type": "markdown",
   "id": "95c84858-d6a3-4d04-8494-5288c9a33d0a",
   "metadata": {},
   "source": [
    "### A few packages to get you going\n",
    "* We'll be loading many more throughout the tutorial\n",
    "* Download the dataset by executing the proceeding cells"
   ]
  },
  {
   "cell_type": "code",
   "execution_count": 51,
   "id": "a0fd32d7-d9f4-4e80-bb42-0877c2f51eee",
   "metadata": {},
   "outputs": [],
   "source": [
    "from sklearn.datasets import fetch_openml\n",
    "import matplotlib.pyplot as plt\n",
    "from sklearn.model_selection import train_test_split\n",
    "import numpy as np"
   ]
  },
  {
   "cell_type": "code",
   "execution_count": 52,
   "id": "a0afab77-e9d7-412e-ae78-7880cfad6c73",
   "metadata": {},
   "outputs": [],
   "source": [
    "mnist = fetch_openml('mnist_784', version=1, as_frame=False)"
   ]
  },
  {
   "cell_type": "markdown",
   "id": "240b1038-13d3-4d90-b775-657c04c3a981",
   "metadata": {},
   "source": [
    "* Print dictionary keys"
   ]
  },
  {
   "cell_type": "code",
   "execution_count": 53,
   "id": "63ba03b9-7671-4b20-b96e-821d2c8bc240",
   "metadata": {},
   "outputs": [
    {
     "name": "stdout",
     "output_type": "stream",
     "text": [
      "data\n",
      "target\n",
      "frame\n",
      "categories\n",
      "feature_names\n",
      "target_names\n",
      "DESCR\n",
      "details\n",
      "url\n"
     ]
    }
   ],
   "source": [
    "for key in mnist:\n",
    "    print(key)"
   ]
  },
  {
   "cell_type": "markdown",
   "id": "61367a84-b553-4aa9-86bb-1b27ac72c619",
   "metadata": {},
   "source": [
    "* Save the contents of the data and target from the MNIST dictionary into data_array and target array variables\n",
    "    * Also print out the shape of data_array\n",
    "* Notice the type of the target array – convert this to np.uint8 using the astype() method"
   ]
  },
  {
   "cell_type": "code",
   "execution_count": 54,
   "id": "49455c61-01d9-4eab-b8fa-3f8ebb270f06",
   "metadata": {},
   "outputs": [],
   "source": [
    "#saving the contents of data and target as data_array and target_array\n",
    "data_array = mnist.data\n",
    "target_array = mnist.target"
   ]
  },
  {
   "cell_type": "code",
   "execution_count": 55,
   "id": "37a19326-c631-4f7f-8db0-e05277d91212",
   "metadata": {},
   "outputs": [
    {
     "name": "stdout",
     "output_type": "stream",
     "text": [
      "(70000, 784)\n"
     ]
    }
   ],
   "source": [
    "#printing the shape of the data_array\n",
    "print(data_array.shape)"
   ]
  },
  {
   "cell_type": "code",
   "execution_count": 56,
   "id": "e2730cc7-432b-46bf-bb8b-e18467a2f8eb",
   "metadata": {},
   "outputs": [
    {
     "data": {
      "text/plain": [
       "dtype('O')"
      ]
     },
     "execution_count": 56,
     "metadata": {},
     "output_type": "execute_result"
    }
   ],
   "source": [
    "#printing the target_array data type: dtype ('0') means 'object'\n",
    "target_array.dtype"
   ]
  },
  {
   "cell_type": "code",
   "execution_count": 57,
   "id": "98a58578-4fba-4efb-a6bd-7af223463492",
   "metadata": {},
   "outputs": [
    {
     "name": "stdout",
     "output_type": "stream",
     "text": [
      "uint8\n"
     ]
    }
   ],
   "source": [
    "#convert the target_array to np.uint8 using the astype() method\n",
    "target_array = target_array.astype(np.uint8)\n",
    "print(target_array.dtype)"
   ]
  },
  {
   "cell_type": "markdown",
   "id": "77e43f92-3394-4192-925e-f89ac996beeb",
   "metadata": {},
   "source": [
    "* Print and glance over the description given in the mnist dictionary\n",
    "* Plot an image of the very first image in the dataset (matplotlib imshow)\n",
    "\n",
    "* Bonus ACTIVITY: Write a function that takes in the index of a sample and plots it\n"
   ]
  },
  {
   "cell_type": "code",
   "execution_count": 58,
   "id": "3502601a-3b9a-4369-91d2-adb3d6bd17ec",
   "metadata": {},
   "outputs": [
    {
     "name": "stdout",
     "output_type": "stream",
     "text": [
      "**Author**: Yann LeCun, Corinna Cortes, Christopher J.C. Burges  \n",
      "**Source**: [MNIST Website](http://yann.lecun.com/exdb/mnist/) - Date unknown  \n",
      "**Please cite**:  \n",
      "\n",
      "The MNIST database of handwritten digits with 784 features, raw data available at: http://yann.lecun.com/exdb/mnist/. It can be split in a training set of the first 60,000 examples, and a test set of 10,000 examples  \n",
      "\n",
      "It is a subset of a larger set available from NIST. The digits have been size-normalized and centered in a fixed-size image. It is a good database for people who want to try learning techniques and pattern recognition methods on real-world data while spending minimal efforts on preprocessing and formatting. The original black and white (bilevel) images from NIST were size normalized to fit in a 20x20 pixel box while preserving their aspect ratio. The resulting images contain grey levels as a result of the anti-aliasing technique used by the normalization algorithm. the images were centered in a 28x28 image by computing the center of mass of the pixels, and translating the image so as to position this point at the center of the 28x28 field.  \n",
      "\n",
      "With some classification methods (particularly template-based methods, such as SVM and K-nearest neighbors), the error rate improves when the digits are centered by bounding box rather than center of mass. If you do this kind of pre-processing, you should report it in your publications. The MNIST database was constructed from NIST's NIST originally designated SD-3 as their training set and SD-1 as their test set. However, SD-3 is much cleaner and easier to recognize than SD-1. The reason for this can be found on the fact that SD-3 was collected among Census Bureau employees, while SD-1 was collected among high-school students. Drawing sensible conclusions from learning experiments requires that the result be independent of the choice of training set and test among the complete set of samples. Therefore it was necessary to build a new database by mixing NIST's datasets.  \n",
      "\n",
      "The MNIST training set is composed of 30,000 patterns from SD-3 and 30,000 patterns from SD-1. Our test set was composed of 5,000 patterns from SD-3 and 5,000 patterns from SD-1. The 60,000 pattern training set contained examples from approximately 250 writers. We made sure that the sets of writers of the training set and test set were disjoint. SD-1 contains 58,527 digit images written by 500 different writers. In contrast to SD-3, where blocks of data from each writer appeared in sequence, the data in SD-1 is scrambled. Writer identities for SD-1 is available and we used this information to unscramble the writers. We then split SD-1 in two: characters written by the first 250 writers went into our new training set. The remaining 250 writers were placed in our test set. Thus we had two sets with nearly 30,000 examples each. The new training set was completed with enough examples from SD-3, starting at pattern # 0, to make a full set of 60,000 training patterns. Similarly, the new test set was completed with SD-3 examples starting at pattern # 35,000 to make a full set with 60,000 test patterns. Only a subset of 10,000 test images (5,000 from SD-1 and 5,000 from SD-3) is available on this site. The full 60,000 sample training set is available.\n",
      "\n",
      "Downloaded from openml.org.\n"
     ]
    }
   ],
   "source": [
    "#print and glance over the description given in the mnist dictionary\n",
    "print(mnist.DESCR)"
   ]
  },
  {
   "cell_type": "code",
   "execution_count": 59,
   "id": "c9578998-8352-4e91-86a2-2f338a617538",
   "metadata": {},
   "outputs": [
    {
     "data": {
      "text/plain": [
       "<matplotlib.image.AxesImage at 0x7ff92ca77ac0>"
      ]
     },
     "execution_count": 59,
     "metadata": {},
     "output_type": "execute_result"
    },
    {
     "data": {
      "image/png": "[encoded data removed]",
      "text/plain": [
       "<Figure size 432x288 with 1 Axes>"
      ]
     },
     "metadata": {
      "needs_background": "light"
     },
     "output_type": "display_data"
    }
   ],
   "source": [
    "#first convert the data from 1D to 2D of the very first image\n",
    "data_array_2d = data_array[2].reshape(28,28)\n",
    "\n",
    "#plot an image of the very first image in the dataset (matplotlib imshow)\n",
    "plt.imshow(data_array_2d)"
   ]
  },
  {
   "cell_type": "code",
   "execution_count": 60,
   "id": "5dd44eb4-8d58-4f30-8711-39bfaa28ea06",
   "metadata": {},
   "outputs": [
    {
     "data": {
      "image/png": "[encoded data removed]",
      "text/plain": [
       "<Figure size 432x288 with 1 Axes>"
      ]
     },
     "metadata": {
      "needs_background": "light"
     },
     "output_type": "display_data"
    }
   ],
   "source": [
    "#creating function that takes in the index of the sample and plots it\n",
    "def index_plot(i):\n",
    "    plt.imshow(data_array[i].reshape(28,28), aspect = 'equal')\n",
    "\n",
    "index_plot(5)"
   ]
  },
  {
   "cell_type": "markdown",
   "id": "c98ac73c-f452-4252-b4e2-871be516f96e",
   "metadata": {},
   "source": [
    "### train_test_split\n",
    "* turn off shuffle"
   ]
  },
  {
   "cell_type": "code",
   "execution_count": 61,
   "id": "b43cecf1-a1aa-4d9c-9679-e29c3538f88e",
   "metadata": {},
   "outputs": [
    {
     "name": "stdout",
     "output_type": "stream",
     "text": [
      "(52500, 784) (17500, 784) (52500,) (17500,)\n"
     ]
    }
   ],
   "source": [
    "#using Sklearn train test split function\n",
    "#don't need shuffle for this so set it to False\n",
    "#everything else is set to none (can remove all of these to make it cleaner, the only ones you actually need for the function to run is shuffle false)\n",
    "#can adjust either the test_size or the target_size (but only one) with a number between 0 and 1 for how much of the data you want to include in each subset\n",
    "#you can also use a number for test_size e.g. 3500 (in this example the size is 7000 so that is the equivalent of 50%)\n",
    "#then print the shapes of the new arrays you've created\n",
    "\n",
    "data_array_train, data_array_test, target_array_train, target_array_test = train_test_split(data_array,target_array,shuffle=False)\n",
    "\n",
    "print(data_array_train.shape, data_array_test.shape, target_array_train.shape, target_array_test.shape)"
   ]
  },
  {
   "cell_type": "markdown",
   "id": "b23f7d94-c8fd-46a3-9a22-16823a02aa95",
   "metadata": {},
   "source": [
    "### Make a new target array (for only train dataset) that is composed of Boolean values (True for 5s and False for not 5s)\n",
    "* Name the new array target_array_train_5\n"
   ]
  },
  {
   "cell_type": "code",
   "execution_count": 62,
   "id": "28e78a67-c709-4108-92eb-f757eb0cfb77",
   "metadata": {},
   "outputs": [
    {
     "name": "stdout",
     "output_type": "stream",
     "text": [
      "[5 0 4 1 9 2 1 3 1 4]\n",
      "[ True False False False False False False False False False]\n"
     ]
    }
   ],
   "source": [
    "#to say not equals use '!=' instead of '=='\n",
    "\n",
    "target_array_train_5 = (target_array_train == 5)\n",
    "print(target_array_train[0:10])\n",
    "print(target_array_train_5[0:10])"
   ]
  },
  {
   "cell_type": "markdown",
   "id": "55328835-4085-425b-a73c-fec339225cdb",
   "metadata": {},
   "source": [
    "### SGDClassifier\n",
    "* Name it sgd_clf\n",
    "* Fit the model to the data with the fives target\n",
    "* Check to see if it worked using the predict function on a specific sample you know is a 5; also a sample you know is not a 5\n",
    "    * Individual predictions will require a reshape (necessary command will appear in error)\n"
   ]
  },
  {
   "cell_type": "code",
   "execution_count": 63,
   "id": "fdff4302-6106-4a5b-9633-af8baea3a7a5",
   "metadata": {},
   "outputs": [],
   "source": [
    "#SGDCLassifier skylearn function to fit a linear model\n",
    "#import SGD classifier, StandardScaler and pipeline\n",
    "\n",
    "from sklearn.linear_model import SGDClassifier\n",
    "from sklearn.preprocessing import StandardScaler\n",
    "from sklearn.pipeline import make_pipeline"
   ]
  },
  {
   "cell_type": "code",
   "execution_count": 64,
   "id": "f3c9eb4d-1b4e-4d89-807b-9169251f6e74",
   "metadata": {},
   "outputs": [
    {
     "data": {
      "text/plain": [
       "SGDClassifier()"
      ]
     },
     "execution_count": 64,
     "metadata": {},
     "output_type": "execute_result"
    }
   ],
   "source": [
    "#fit the model to the data with the fives target\n",
    "\n",
    "sgd_clf = SGDClassifier(loss='hinge', max_iter=1000)\n",
    "sgd_clf.fit(data_array_train,target_array_train_5)"
   ]
  },
  {
   "cell_type": "code",
   "execution_count": 65,
   "id": "b7bb013a-2dc6-49dc-b6df-6c3ac37c9900",
   "metadata": {},
   "outputs": [
    {
     "data": {
      "text/plain": [
       "array([ True])"
      ]
     },
     "execution_count": 65,
     "metadata": {},
     "output_type": "execute_result"
    }
   ],
   "source": [
    "#use the predict function to check if it worked, by specifying individual sample you know is a 5\n",
    "\n",
    "sgd_clf.predict(data_array_train[0:10])\n",
    "\n",
    "#to predict one value need to reshape, -1 means put in whatever number you need to make this work\n",
    "sgd_clf.predict(data_array_train[0].reshape(1,-1))"
   ]
  },
  {
   "cell_type": "markdown",
   "id": "3d29df6b-2979-4233-aa32-2513fa8f8e65",
   "metadata": {},
   "source": [
    "### cross_val_score\n",
    "* Implement it using 3-fold cross validation, scoring for accuracy\n"
   ]
  },
  {
   "cell_type": "code",
   "execution_count": 66,
   "id": "a4d4fbc2-d6ad-4853-8598-c60c65d8fd00",
   "metadata": {},
   "outputs": [],
   "source": [
    "#import cross val score and metrics for scoring\n",
    "\n",
    "from sklearn.model_selection import cross_val_score"
   ]
  },
  {
   "cell_type": "code",
   "execution_count": 67,
   "id": "ea46d7cb-8cc3-487c-82d7-90c94c2de594",
   "metadata": {},
   "outputs": [
    {
     "data": {
      "text/plain": [
       "array([0.96782857, 0.97011429, 0.9616    ])"
      ]
     },
     "execution_count": 67,
     "metadata": {},
     "output_type": "execute_result"
    }
   ],
   "source": [
    "#implement cross val score using 3-fold cross validation, scoring for accuracy\n",
    "\n",
    "scores = cross_val_score(sgd_clf, data_array_train, target_array_train_5, cv=3, scoring='accuracy')\n",
    "scores"
   ]
  },
  {
   "cell_type": "markdown",
   "id": "45dfe506-c95d-41e4-a231-d609a3f94bbd",
   "metadata": {},
   "source": [
    "### Calculate the accuracy if the model always predicted not-5\n"
   ]
  },
  {
   "cell_type": "code",
   "execution_count": 68,
   "id": "8e7d84e1-a6f5-4042-b0ca-d30dd3e74d45",
   "metadata": {},
   "outputs": [
    {
     "data": {
      "text/plain": [
       "(4739, (52500,))"
      ]
     },
     "execution_count": 68,
     "metadata": {},
     "output_type": "execute_result"
    }
   ],
   "source": [
    "#calculating all the values that are true i.e value is 5\n",
    "\n",
    "all_true = sum(target_array_train_5)\n",
    "all_true, target_array_train_5.shape"
   ]
  },
  {
   "cell_type": "code",
   "execution_count": 69,
   "id": "819c5f20-fa5d-452f-8999-f55b95d56f30",
   "metadata": {},
   "outputs": [
    {
     "data": {
      "text/plain": [
       "90.97333333333333"
      ]
     },
     "execution_count": 69,
     "metadata": {},
     "output_type": "execute_result"
    }
   ],
   "source": [
    "#calculating the accuracy if the model always predicted not 5\n",
    "#to do this want to calculate the number of 5's within the array\n",
    "#then calculate the percentage if the model always predicted not 5 (percentage: how many 5's over how many values)\n",
    "\n",
    "accuracy_not_5 = 100-((all_true/52500)*100)\n",
    "accuracy_not_5"
   ]
  },
  {
   "cell_type": "markdown",
   "id": "8d3bdd18-ec4c-4f9e-805b-8139aa16783f",
   "metadata": {},
   "source": [
    "### cross_val_predict \n",
    "* Name the array of predictions target_array_train_5_pred"
   ]
  },
  {
   "cell_type": "code",
   "execution_count": 70,
   "id": "615eaac4-3bea-45f6-bc1b-0f4da6958192",
   "metadata": {},
   "outputs": [],
   "source": [
    "#install cross_val_predict\n",
    "\n",
    "from sklearn.model_selection import cross_val_predict"
   ]
  },
  {
   "cell_type": "code",
   "execution_count": 71,
   "id": "29b5139a-fc61-4ca4-b502-32ae6040a64d",
   "metadata": {},
   "outputs": [
    {
     "data": {
      "text/plain": [
       "array([ True, False, False, ..., False, False, False])"
      ]
     },
     "execution_count": 71,
     "metadata": {},
     "output_type": "execute_result"
    }
   ],
   "source": [
    "#perform cross_val_predict. Use cv=3 (3-fold cross validation) as before for cross_val_score\n",
    "\n",
    "target_array_train_5_pred = cross_val_predict(sgd_clf, data_array_train, target_array_train_5, cv=3)\n",
    "target_array_train_5_pred"
   ]
  },
  {
   "cell_type": "markdown",
   "id": "2c24fdb8-01e8-47e9-a8e6-b65d999b8db5",
   "metadata": {},
   "source": [
    "### precision_score; recall_score"
   ]
  },
  {
   "cell_type": "code",
   "execution_count": null,
   "id": "6bd17b39-bf08-41e3-98ea-a70991c4f364",
   "metadata": {},
   "outputs": [],
   "source": [
    "#precision score=true positive/(true positive+false positive)\n",
    "#recall score= true positive/(true positive+false negative)"
   ]
  },
  {
   "cell_type": "code",
   "execution_count": 72,
   "id": "f1b13da0-3e9d-4ebb-bd8a-61e912e026b6",
   "metadata": {},
   "outputs": [],
   "source": [
    "#import precision_score\n",
    "from sklearn.metrics import precision_score"
   ]
  },
  {
   "cell_type": "code",
   "execution_count": 73,
   "id": "77b38f16-f966-46af-a83e-9eb30c90a534",
   "metadata": {},
   "outputs": [
    {
     "data": {
      "text/plain": [
       "0.7830551989730423"
      ]
     },
     "execution_count": 73,
     "metadata": {},
     "output_type": "execute_result"
    }
   ],
   "source": [
    "#generating precision score using the precision score function\n",
    "precision_score = precision_score(target_array_train_5, target_array_train_5_pred)\n",
    "precision_score"
   ]
  },
  {
   "cell_type": "code",
   "execution_count": 74,
   "id": "0d813eb1-7d0d-4ec1-85de-0f22671a2180",
   "metadata": {},
   "outputs": [],
   "source": [
    "#import recall_score\n",
    "from sklearn.metrics import recall_score"
   ]
  },
  {
   "cell_type": "code",
   "execution_count": 75,
   "id": "1bbad741-cb43-429c-b9db-678a47f96893",
   "metadata": {},
   "outputs": [
    {
     "data": {
      "text/plain": [
       "0.7723148343532391"
      ]
     },
     "execution_count": 75,
     "metadata": {},
     "output_type": "execute_result"
    }
   ],
   "source": [
    "#generating recall score using the recall score function\n",
    "recall_score = recall_score(target_array_train_5, target_array_train_5_pred)\n",
    "recall_score"
   ]
  },
  {
   "cell_type": "markdown",
   "id": "1a71de58-02bf-4254-b80c-24f81677af41",
   "metadata": {},
   "source": [
    "### roc_curve\n",
    "* Run cross_val_predict as before, but add method='decision_function'\n",
    "* Use matplotlib plot to create ROC curve figure"
   ]
  },
  {
   "cell_type": "code",
   "execution_count": 76,
   "id": "b41ee1fa-912b-48e9-8310-e3ddde73190a",
   "metadata": {},
   "outputs": [
    {
     "data": {
      "text/plain": [
       "array([  8441.99614964, -37921.01538463, -54682.87249884, ...,\n",
       "       -13663.18826713, -12184.99141456, -20106.73860922])"
      ]
     },
     "execution_count": 76,
     "metadata": {},
     "output_type": "execute_result"
    }
   ],
   "source": [
    "#run cross_val_predict adding method='decision_function'\n",
    "\n",
    "target_array_train_5_pred = cross_val_predict(sgd_clf, data_array_train, target_array_train_5, cv=3, method='decision_function')\n",
    "target_array_train_5_pred"
   ]
  },
  {
   "cell_type": "code",
   "execution_count": 77,
   "id": "7ebaca50-0268-40c6-8c3f-d464ec35a727",
   "metadata": {},
   "outputs": [],
   "source": [
    "#imports to create a ROC curve figure using matplotlib\n",
    "import matplotlib.pyplot as plt\n",
    "from sklearn.metrics import roc_curve, auc\n",
    "from sklearn import metrics"
   ]
  },
  {
   "cell_type": "code",
   "execution_count": 78,
   "id": "0b6a80c4-8e82-4374-8fbe-24810d4088a3",
   "metadata": {},
   "outputs": [
    {
     "data": {
      "text/plain": [
       "(array([0.       , 0.       , 0.       , ..., 0.9960428, 0.9960428,\n",
       "        1.       ]),\n",
       " array([0.00000000e+00, 2.11014982e-04, 3.37623971e-03, ...,\n",
       "        9.99788985e-01, 1.00000000e+00, 1.00000000e+00]),\n",
       " array([  50128.60071958,   50127.60071958,   38858.0346057 , ...,\n",
       "        -116970.36867667, -117144.6711945 , -266955.25442076]))"
      ]
     },
     "execution_count": 78,
     "metadata": {},
     "output_type": "execute_result"
    }
   ],
   "source": [
    "#make roc curve\n",
    "fpr, tpr, thresholds = metrics.roc_curve(target_array_train_5, target_array_train_5_pred)\n",
    "fpr, tpr, thresholds"
   ]
  },
  {
   "cell_type": "code",
   "execution_count": 79,
   "id": "6c7f42a4-e351-4e03-ae56-c42c9d3609d4",
   "metadata": {},
   "outputs": [
    {
     "data": {
      "image/png": "[encoded data removed]",
      "text/plain": [
       "<Figure size 432x288 with 1 Axes>"
      ]
     },
     "metadata": {
      "needs_background": "light"
     },
     "output_type": "display_data"
    }
   ],
   "source": [
    "#make a roc chart using the RocCurveDisplay.from_predictions function \n",
    "#plt.show displays the figure\n",
    "\n",
    "rocchart = metrics.RocCurveDisplay.from_predictions(target_array_train_5, target_array_train_5_pred)\n",
    "plt.show(rocchart)"
   ]
  },
  {
   "cell_type": "markdown",
   "id": "a1d093f4-4f07-4bb8-afaa-462fd9c6fe16",
   "metadata": {},
   "source": [
    "### roc_auc_score"
   ]
  },
  {
   "cell_type": "code",
   "execution_count": 80,
   "id": "63d131ec-b369-4154-9765-c6963423d02a",
   "metadata": {},
   "outputs": [
    {
     "data": {
      "text/plain": [
       "0.9537801550652837"
      ]
     },
     "execution_count": 80,
     "metadata": {},
     "output_type": "execute_result"
    }
   ],
   "source": [
    "#import roc_auc_score\n",
    "from sklearn.metrics import roc_auc_score\n",
    "\n",
    "roc_auc_score = metrics.roc_auc_score(target_array_train_5, target_array_train_5_pred)\n",
    "roc_auc_score"
   ]
  },
  {
   "cell_type": "markdown",
   "id": "c42e41bd-2e4e-4dfc-86c4-e9f1af763fdf",
   "metadata": {},
   "source": [
    "### Find the cross_val_pred for the SGD classifier using all 10 classes (change targets)\n",
    "* Use a new variable target_array_train_pred to save predictions "
   ]
  },
  {
   "cell_type": "code",
   "execution_count": 81,
   "id": "cf01346e-5bc0-488a-b9c5-093dac9d3f63",
   "metadata": {},
   "outputs": [],
   "source": [
    "#SGDCLassifier skylearn function to fit a linear model\n",
    "#import SGD classifier\n",
    "\n",
    "from sklearn.linear_model import SGDClassifier\n",
    "from sklearn.preprocessing import StandardScaler\n",
    "from sklearn.pipeline import make_pipeline"
   ]
  },
  {
   "cell_type": "code",
   "execution_count": 82,
   "id": "ab3318ac-d1c5-4bd7-9c31-e589989ace57",
   "metadata": {},
   "outputs": [
    {
     "data": {
      "text/plain": [
       "SGDClassifier()"
      ]
     },
     "execution_count": 82,
     "metadata": {},
     "output_type": "execute_result"
    }
   ],
   "source": [
    "#fit the model to the full dataset \n",
    "\n",
    "sgd_clf = SGDClassifier(loss='hinge', max_iter=1000)\n",
    "sgd_clf.fit(data_array_train,target_array_train)"
   ]
  },
  {
   "cell_type": "code",
   "execution_count": 84,
   "id": "2ed692db-3cbb-454c-bc77-77cb1973b290",
   "metadata": {},
   "outputs": [
    {
     "data": {
      "text/plain": [
       "array([5, 0, 4, 1, 9, 2, 1, 3, 1, 4], dtype=uint8)"
      ]
     },
     "execution_count": 84,
     "metadata": {},
     "output_type": "execute_result"
    }
   ],
   "source": [
    "#use the predict function to check if it worked\n",
    "\n",
    "sgd_clf.predict(data_array_train[0:10])"
   ]
  },
  {
   "cell_type": "code",
   "execution_count": 85,
   "id": "f0a475a7-d352-40ea-bf5f-821506f1f1e6",
   "metadata": {},
   "outputs": [
    {
     "data": {
      "text/plain": [
       "array([0.87142857, 0.87828571, 0.86931429])"
      ]
     },
     "execution_count": 85,
     "metadata": {},
     "output_type": "execute_result"
    }
   ],
   "source": [
    "#cross val score\n",
    "\n",
    "scores_2 = cross_val_score(sgd_clf, data_array_train, target_array_train, cv=3)\n",
    "scores_2"
   ]
  },
  {
   "cell_type": "code",
   "execution_count": 90,
   "id": "2352a59c-6d60-4bd6-add5-a27298c01d15",
   "metadata": {},
   "outputs": [
    {
     "data": {
      "text/plain": [
       "array([3, 0, 4, ..., 9, 1, 4], dtype=uint8)"
      ]
     },
     "execution_count": 90,
     "metadata": {},
     "output_type": "execute_result"
    }
   ],
   "source": [
    "#use cross_val_predict on the data array and target array datasets\n",
    "target_array_train_pred = cross_val_predict(sgd_clf, data_array_train, target_array_train, cv=3)\n",
    "target_array_train_pred"
   ]
  },
  {
   "cell_type": "code",
   "execution_count": 91,
   "id": "2ebb9c25-2ca3-43bc-ade0-29c4cf6a70ca",
   "metadata": {},
   "outputs": [],
   "source": [
    "#use Standard Scaler\n",
    "from sklearn.preprocessing import StandardScaler\n",
    "\n",
    "#reshape the data\n",
    "data_array_train = np.arange(100).reshape(-1,1)"
   ]
  },
  {
   "cell_type": "code",
   "execution_count": 92,
   "id": "6b19f030-f9c2-4b11-9eb2-39a9464d4e10",
   "metadata": {},
   "outputs": [
    {
     "data": {
      "text/plain": [
       "array([[-1.71481604],\n",
       "       [-1.68017329],\n",
       "       [-1.64553055],\n",
       "       [-1.6108878 ],\n",
       "       [-1.57624505],\n",
       "       [-1.5416023 ],\n",
       "       [-1.50695955],\n",
       "       [-1.4723168 ],\n",
       "       [-1.43767406],\n",
       "       [-1.40303131],\n",
       "       [-1.36838856],\n",
       "       [-1.33374581],\n",
       "       [-1.29910306],\n",
       "       [-1.26446031],\n",
       "       [-1.22981757],\n",
       "       [-1.19517482],\n",
       "       [-1.16053207],\n",
       "       [-1.12588932],\n",
       "       [-1.09124657],\n",
       "       [-1.05660382],\n",
       "       [-1.02196108],\n",
       "       [-0.98731833],\n",
       "       [-0.95267558],\n",
       "       [-0.91803283],\n",
       "       [-0.88339008],\n",
       "       [-0.84874733],\n",
       "       [-0.81410459],\n",
       "       [-0.77946184],\n",
       "       [-0.74481909],\n",
       "       [-0.71017634],\n",
       "       [-0.67553359],\n",
       "       [-0.64089084],\n",
       "       [-0.6062481 ],\n",
       "       [-0.57160535],\n",
       "       [-0.5369626 ],\n",
       "       [-0.50231985],\n",
       "       [-0.4676771 ],\n",
       "       [-0.43303435],\n",
       "       [-0.39839161],\n",
       "       [-0.36374886],\n",
       "       [-0.32910611],\n",
       "       [-0.29446336],\n",
       "       [-0.25982061],\n",
       "       [-0.22517786],\n",
       "       [-0.19053512],\n",
       "       [-0.15589237],\n",
       "       [-0.12124962],\n",
       "       [-0.08660687],\n",
       "       [-0.05196412],\n",
       "       [-0.01732137],\n",
       "       [ 0.01732137],\n",
       "       [ 0.05196412],\n",
       "       [ 0.08660687],\n",
       "       [ 0.12124962],\n",
       "       [ 0.15589237],\n",
       "       [ 0.19053512],\n",
       "       [ 0.22517786],\n",
       "       [ 0.25982061],\n",
       "       [ 0.29446336],\n",
       "       [ 0.32910611],\n",
       "       [ 0.36374886],\n",
       "       [ 0.39839161],\n",
       "       [ 0.43303435],\n",
       "       [ 0.4676771 ],\n",
       "       [ 0.50231985],\n",
       "       [ 0.5369626 ],\n",
       "       [ 0.57160535],\n",
       "       [ 0.6062481 ],\n",
       "       [ 0.64089084],\n",
       "       [ 0.67553359],\n",
       "       [ 0.71017634],\n",
       "       [ 0.74481909],\n",
       "       [ 0.77946184],\n",
       "       [ 0.81410459],\n",
       "       [ 0.84874733],\n",
       "       [ 0.88339008],\n",
       "       [ 0.91803283],\n",
       "       [ 0.95267558],\n",
       "       [ 0.98731833],\n",
       "       [ 1.02196108],\n",
       "       [ 1.05660382],\n",
       "       [ 1.09124657],\n",
       "       [ 1.12588932],\n",
       "       [ 1.16053207],\n",
       "       [ 1.19517482],\n",
       "       [ 1.22981757],\n",
       "       [ 1.26446031],\n",
       "       [ 1.29910306],\n",
       "       [ 1.33374581],\n",
       "       [ 1.36838856],\n",
       "       [ 1.40303131],\n",
       "       [ 1.43767406],\n",
       "       [ 1.4723168 ],\n",
       "       [ 1.50695955],\n",
       "       [ 1.5416023 ],\n",
       "       [ 1.57624505],\n",
       "       [ 1.6108878 ],\n",
       "       [ 1.64553055],\n",
       "       [ 1.68017329],\n",
       "       [ 1.71481604]])"
      ]
     },
     "execution_count": 92,
     "metadata": {},
     "output_type": "execute_result"
    }
   ],
   "source": [
    "#using standard scaler\n",
    "std_scale = StandardScaler()\n",
    "std_scale.fit(data_array_train)\n",
    "data_train_scale = std_scale.transform(data_array_train)\n",
    "data_train_scale"
   ]
  },
  {
   "cell_type": "markdown",
   "id": "72fea275-944c-430d-9371-a00c2bacd530",
   "metadata": {},
   "source": [
    "### confusion_matrix"
   ]
  },
  {
   "cell_type": "code",
   "execution_count": 96,
   "id": "b21d41ba-b140-4d8b-9718-aa5f813fd6ce",
   "metadata": {},
   "outputs": [],
   "source": [
    "#used to evaluate the accuracy of a classification\n",
    "\n",
    "from sklearn.metrics import confusion_matrix\n",
    "import seaborn as sns\n",
    "import pandas as pd"
   ]
  },
  {
   "cell_type": "code",
   "execution_count": 99,
   "id": "2837e628-7412-486d-9d7d-e661e0e12b11",
   "metadata": {},
   "outputs": [],
   "source": [
    "#using the confusion matrix function\n",
    "\n",
    "confusion_matrix = confusion_matrix(target_array_train, target_array_train_pred)"
   ]
  },
  {
   "cell_type": "code",
   "execution_count": 100,
   "id": "d12f9e78-0ec8-40c5-a64a-33f76bbccefa",
   "metadata": {},
   "outputs": [
    {
     "data": {
      "image/png": "[encoded data removed]",
      "text/plain": [
       "<Figure size 432x288 with 2 Axes>"
      ]
     },
     "metadata": {
      "needs_background": "light"
     },
     "output_type": "display_data"
    }
   ],
   "source": [
    "confusion_map = sns.heatmap(confusion_matrix, xticklabels=True, yticklabels=False)"
   ]
  },
  {
   "cell_type": "code",
   "execution_count": 89,
   "id": "60cf94ec-1b61-46d3-ab26-d5a90171bb13",
   "metadata": {},
   "outputs": [
    {
     "data": {
      "text/plain": [
       "<sklearn.metrics._plot.confusion_matrix.ConfusionMatrixDisplay at 0x7ff92ca32ca0>"
      ]
     },
     "execution_count": 89,
     "metadata": {},
     "output_type": "execute_result"
    },
    {
     "data": {
      "image/png": "[encoded data removed]",
      "text/plain": [
       "<Figure size 432x288 with 2 Axes>"
      ]
     },
     "metadata": {
      "needs_background": "light"
     },
     "output_type": "display_data"
    }
   ],
   "source": [
    "#display confusion matrix using the ConfusionMatrixDisplay function\n",
    "\n",
    "from sklearn.metrics import ConfusionMatrixDisplay\n",
    "ConfusionMatrixDisplay.from_predictions(target_array_train, target_array_train_pred)"
   ]
  },
  {
   "cell_type": "markdown",
   "id": "c4ae4235-2044-49b5-862e-7ab8172e3c85",
   "metadata": {
    "jp-MarkdownHeadingCollapsed": true,
    "tags": []
   },
   "source": [
    "### StandardScaler"
   ]
  },
  {
   "cell_type": "code",
   "execution_count": null,
   "id": "48b9d818-b6bb-48ea-bdd4-198af3919945",
   "metadata": {},
   "outputs": [],
   "source": []
  },
  {
   "cell_type": "code",
   "execution_count": null,
   "id": "141395e8-186d-4314-8479-a43b41fac924",
   "metadata": {},
   "outputs": [],
   "source": []
  },
  {
   "cell_type": "code",
   "execution_count": null,
   "id": "86ade10e-e58a-42a2-be32-d7e7b4a75a01",
   "metadata": {},
   "outputs": [],
   "source": []
  },
  {
   "cell_type": "code",
   "execution_count": null,
   "id": "b9d5a315-5b17-489f-9f05-d1dd054601b9",
   "metadata": {},
   "outputs": [],
   "source": []
  }
 ],
 "metadata": {
  "kernelspec": {
   "display_name": "Python 3 (ipykernel)",
   "language": "python",
   "name": "python3"
  },
  "language_info": {
   "codemirror_mode": {
    "name": "ipython",
    "version": 3
   },
   "file_extension": ".py",
   "mimetype": "text/x-python",
   "name": "python",
   "nbconvert_exporter": "python",
   "pygments_lexer": "ipython3",
   "version": "3.9.12"
  }
 },
 "nbformat": 4,
 "nbformat_minor": 5
}

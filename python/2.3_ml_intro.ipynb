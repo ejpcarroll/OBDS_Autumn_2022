{
 "cells": [
  {
   "cell_type": "markdown",
   "id": "12533ba6-a414-4fe7-8bec-d4f27d39b2e5",
   "metadata": {},
   "source": [
    "# Using ML techniques to infer a multiplier\n",
    "\n",
    "### Scenario\n",
    "\n",
    "You discover that the number of apple seeds is directly tied to the overall height of the fruit, the seed count just needs to be multiplied by some fixed number. Create a model such that given the number of seeds, you can predict the height of the fruit. ***Use an iterative guessing approach to estimate the value of the multiplier.***"
   ]
  },
  {
   "cell_type": "markdown",
   "id": "2cc3efe5-553f-4be9-95e0-ee1a4c96ebea",
   "metadata": {},
   "source": [
    "### We use two packages for this\n",
    "1. random - to generate random numbers\n",
    "2. numpy - this package handles matricies (or more technically arrays, which may have more dimensions than a matrix)"
   ]
  },
  {
   "cell_type": "code",
   "execution_count": 1,
   "id": "6359a1f8-8f41-4709-9898-7faf13fa5d4a",
   "metadata": {},
   "outputs": [],
   "source": [
    "import numpy as np\n",
    "import random"
   ]
  },
  {
   "cell_type": "markdown",
   "id": "b9bcff20-4918-4051-838a-8e9e788d0400",
   "metadata": {},
   "source": [
    "## Part 1 - Set up data"
   ]
  },
  {
   "cell_type": "markdown",
   "id": "21f82737-0ec7-4981-aaea-b95537961a83",
   "metadata": {},
   "source": [
    "### Randomly select the multiplier\n",
    "This will be the value the seed count is multiplied by, and the number we're trying to discover\n",
    "* Select a random number between 10 and 100 (uniform distribution) and set it equal to a variable named \"actual_multiplier\""
   ]
  },
  {
   "cell_type": "code",
   "execution_count": 4,
   "id": "767e5ea2-fd39-42c8-a615-34ebaff96076",
   "metadata": {},
   "outputs": [
    {
     "name": "stdout",
     "output_type": "stream",
     "text": [
      "24.193581435901663\n"
     ]
    }
   ],
   "source": [
    "#uniform means its a uniform distribution, it can be any value between 10 and 100 with equal likelihood\n",
    "actual_multiplier = random.uniform(10,100)\n",
    "print(actual_multiplier)"
   ]
  },
  {
   "cell_type": "code",
   "execution_count": 6,
   "id": "f7fed2f6-849d-4684-b7e3-13c1d61b6ddd",
   "metadata": {},
   "outputs": [
    {
     "name": "stdout",
     "output_type": "stream",
     "text": [
      "15\n"
     ]
    }
   ],
   "source": [
    "#uniform means its a uniform distribution, it can be any value between 10 and 100 with equal likelihood, add int before to make it whole number\n",
    "actual_multiplier = int(random.uniform(10,100))\n",
    "print(actual_multiplier)"
   ]
  },
  {
   "cell_type": "code",
   "execution_count": 5,
   "id": "3780413b-5fbb-4889-9a6c-bdbd3dbc4da4",
   "metadata": {},
   "outputs": [
    {
     "name": "stdout",
     "output_type": "stream",
     "text": [
      "41\n"
     ]
    }
   ],
   "source": [
    "#use the randint function instead if you want it to print a whole number rather than a decimal\n",
    "integer = random.randint(10,100)\n",
    "print(integer)"
   ]
  },
  {
   "cell_type": "markdown",
   "id": "f27dd8bf-eaa5-4006-9ab8-d6905ddc249e",
   "metadata": {},
   "source": [
    "### Collect some apple seeds\n",
    "Collect some samples of apple seeds, and measure the associated fruits\n",
    "* To start we'll use 10 samples with different numbers of seeds in each sample. Here we'll use numbers 1, 2, ..., 9, 10\n",
    "    * Make a numpy array named seed_count_array with these values\n",
    "* For obvious reasons, we will not be measuring any apples right now. We're going to cheat a bit and say that the height of the associated apples were the number of seeds times our multiplier value plus noise\n",
    "    * Make a numpy array called apple_height_array that is length 10, and equal to the seed_count_array times the actual_multiplier\n",
    "    * Use the np.random.random method to create an array of length 10, and name it noise_array\n",
    "    * Add the values from the elements of the noise array to the elements of apple_height_array\n",
    "* Print out the actual_multiplier, seed_count_array, and apple_height_array"
   ]
  },
  {
   "cell_type": "code",
   "execution_count": 9,
   "id": "f3b5b472-30b9-49e1-bbe0-d5fa502896f2",
   "metadata": {},
   "outputs": [
    {
     "data": {
      "text/plain": [
       "array(['1', '2', '3', '4', '5', '6', '7', '8', '9', '10'], dtype='<U2')"
      ]
     },
     "execution_count": 9,
     "metadata": {},
     "output_type": "execute_result"
    }
   ],
   "source": [
    "#make a numpy array with the seed values 1-10\n",
    "seed_count_array = np.array(['1', '2', '3', '4', '5', '6', '7', '8', '9', '10'])\n",
    "seed_count_array"
   ]
  },
  {
   "cell_type": "code",
   "execution_count": 10,
   "id": "396c67d4-bab6-4125-9955-6223f4444f63",
   "metadata": {},
   "outputs": [
    {
     "data": {
      "text/plain": [
       "array([ 1,  2,  3,  4,  5,  6,  7,  8,  9, 10])"
      ]
     },
     "execution_count": 10,
     "metadata": {},
     "output_type": "execute_result"
    }
   ],
   "source": [
    "#alternative: make a numpy array with the seed values 1-10\n",
    "seed_count_array = np.arange(1,11)\n",
    "seed_count_array"
   ]
  },
  {
   "cell_type": "code",
   "execution_count": 13,
   "id": "67e40c10-42a6-406a-825c-3bf16a88a553",
   "metadata": {},
   "outputs": [
    {
     "data": {
      "text/plain": [
       "array([ 15,  30,  45,  60,  75,  90, 105, 120, 135, 150])"
      ]
     },
     "execution_count": 13,
     "metadata": {},
     "output_type": "execute_result"
    }
   ],
   "source": [
    "#make a numpy array called apple_height_array that is length 10 and equal to the seed_count_array times the actual_multiplier\n",
    "apple_height_array = np.array(seed_count_array * actual_multiplier)\n",
    "apple_height_array"
   ]
  },
  {
   "cell_type": "code",
   "execution_count": 15,
   "id": "a20bfad1-fc47-4d2c-83fa-7880c6fc79c7",
   "metadata": {},
   "outputs": [
    {
     "data": {
      "text/plain": [
       "array([0.23469826, 0.91905256, 0.17115108, 0.43974932, 0.5677963 ,\n",
       "       0.29426103, 0.3740554 , 0.37647661, 0.52071945, 0.3514626 ])"
      ]
     },
     "execution_count": 15,
     "metadata": {},
     "output_type": "execute_result"
    }
   ],
   "source": [
    "#make a noise_array in numpy of length 10\n",
    "noise_array = np.random.random (10)\n",
    "noise_array"
   ]
  },
  {
   "cell_type": "code",
   "execution_count": 19,
   "id": "dbb2bca0-ec5c-4038-a862-549c365896f4",
   "metadata": {},
   "outputs": [
    {
     "data": {
      "text/plain": [
       "array([ 15.23469826,  30.91905256,  45.17115108,  60.43974932,\n",
       "        75.5677963 ,  90.29426103, 105.3740554 , 120.37647661,\n",
       "       135.52071945, 150.3514626 ])"
      ]
     },
     "execution_count": 19,
     "metadata": {},
     "output_type": "execute_result"
    }
   ],
   "source": [
    "#add the values from the elements of the noise array to the elements of apple_height_array\n",
    "apple_height_array = noise_array + apple_height_array\n",
    "apple_height_array"
   ]
  },
  {
   "cell_type": "code",
   "execution_count": 20,
   "id": "4a6ae435-07ef-466f-a40c-0fcbf9569620",
   "metadata": {},
   "outputs": [
    {
     "name": "stdout",
     "output_type": "stream",
     "text": [
      "15 [ 1  2  3  4  5  6  7  8  9 10] [ 15.23469826  30.91905256  45.17115108  60.43974932  75.5677963\n",
      "  90.29426103 105.3740554  120.37647661 135.52071945 150.3514626 ]\n"
     ]
    }
   ],
   "source": [
    "#print out the atual_multiplier, seed_count_array and apple_height_array\n",
    "print(actual_multiplier, seed_count_array, apple_height_array)"
   ]
  },
  {
   "cell_type": "markdown",
   "id": "34c2c05d-d52f-4a38-be42-fc71c4e47f53",
   "metadata": {},
   "source": [
    "### Sidenote - How contrived is this exercise?\n",
    "\n",
    "This is toy problem where we know the answer before we start. The point of this example is understand overall process of iterative improvement. Relationships typically being modelled with ML are more complicated than a simple multiplier, but suprisingly little changes for more complex problems. Here we're modelling a single parameter, but many models used in biology have 10s of millions, but are built out of many simple calculations like our exercise. The math is more advanced (but maybe not as much as you might think) and beyond our scope, but wouldn't serve much practical use anyway since these calculations are never ever done by hand, and a comprehensive understanding of them is not strictly necessary unless researching novel algorithm designs."
   ]
  },
  {
   "cell_type": "markdown",
   "id": "7671afc0-8e38-41f7-aeba-5308772b45eb",
   "metadata": {},
   "source": [
    "## Part 2 - Build out a training loop"
   ]
  },
  {
   "cell_type": "markdown",
   "id": "47364488-5e4e-4123-88dc-17465b0ce6ae",
   "metadata": {
    "tags": []
   },
   "source": [
    "\n",
    "1. Task 1: write nested for-loops to 1) make a random prediction for each sample and 2) go through 10 epochs.\n",
    "An epoch is one pass through all of the training data\n",
    "Task 1 cont: write a prediction function (named predict_multiplier) for this that guesses a value from -100 to 100\n",
    "2. Task 2: write a function (named calculate_loss) that subtracts the prediction from the true value\n",
    "#the multiplier is the parameter we are trying to guess, the prediction is the multiplier times the number of seeds.\n",
    "3. Task 3: create a variable that keeps track of the best (lowest loss value) - call it best loss\n",
    "#make a list called best_param_list that appends *another* list of the loss, predicted multiplier, actual multiplier, predicted target, actual target and number of seeds (making a list of lists) whenever a new best loss is found\n",
    "#try increasing the number of epochs\n",
    "4. Task 4: Update the predict function to take in the previous step's prediction and loss to make the output more accurate\n",
    "#add a step before your loop to initialise these values\n",
    "5. "
   ]
  },
  {
   "cell_type": "code",
   "execution_count": null,
   "id": "f7b0d68a-944b-47a8-b7f3-54670497b45a",
   "metadata": {},
   "outputs": [],
   "source": [
    "#Task 1: write nested for-loops to 1) make a random prediction for each sample and 2) go through 10 epochs\n",
    "#an epoch is one pass through all of the training data\n",
    "#Task 1 cont: write a prediction function (named predict_multiplier) for this that guesses a value from -100 to 100"
   ]
  },
  {
   "cell_type": "code",
   "execution_count": null,
   "id": "117c17ac-c5e4-4ad6-837f-4341a25f1985",
   "metadata": {},
   "outputs": [],
   "source": [
    "#task 2: write a function (named calculate_loss) that subtracts the prediction from the true value\n",
    "#the multiplier is the parameter we are trying to guess, the prediction is the multiplier times the number of seeds"
   ]
  },
  {
   "cell_type": "code",
   "execution_count": null,
   "id": "cc56ce02-780c-497c-9400-9fddc80ad6ad",
   "metadata": {},
   "outputs": [],
   "source": [
    "#task 3: create a variable that keeps track of the best (lowest loss value) - call it best loss\n",
    "#make a list called best_param_list that appends *another* list of the loss, predicted multiplier, actual multiplier, predicted target, actual target and number of seeds (making a list of lists) whenever a new best loss is found\n",
    "#try increasing the number of epochs"
   ]
  },
  {
   "cell_type": "code",
   "execution_count": null,
   "id": "043f336e-d532-43bd-bda9-aea1538d8f3a",
   "metadata": {},
   "outputs": [],
   "source": [
    "#task 4: update the predict function to take in the previous step's prediction and loss to make the output more accurate\n",
    "#add a step before your loop to initialise these values"
   ]
  },
  {
   "cell_type": "code",
   "execution_count": 81,
   "id": "ce33a654-6bac-427c-aa30-3e4b6e06b65f",
   "metadata": {},
   "outputs": [],
   "source": [
    "#task 1, step 1: defining predict_multiplier\n",
    "\n",
    "def predict_multiplier(loss, last_guess):\n",
    "    if loss < 0:\n",
    "        last_guess += 1\n",
    "    elif loss > 0:\n",
    "        last_guess -= 1\n",
    "    return last_guess\n",
    "    \n",
    "    #number=random.uniform(-100, 100) #can change values -100 and 100 here to 'lower' and 'upper' to make it more flexible \n",
    "    #return number"
   ]
  },
  {
   "cell_type": "code",
   "execution_count": 82,
   "id": "0858e291-8b96-4386-b530-b29677cb9234",
   "metadata": {},
   "outputs": [],
   "source": [
    "#task 2, step 1: define a function called calculate loss that is the true value minus the prediction\n",
    "\n",
    "def calculate_loss(true_value, prediction):\n",
    "    return true_value - prediction"
   ]
  },
  {
   "cell_type": "code",
   "execution_count": 83,
   "id": "eb59bebe-1fe4-4cba-939e-f7d5854f3e17",
   "metadata": {},
   "outputs": [],
   "source": [
    "def predict_multiplier(previous_prediction, previous_loss):\n",
    "    return previous_prediction-(previous_loss*0.001)"
   ]
  },
  {
   "cell_type": "code",
   "execution_count": 88,
   "id": "5bb929ae-7fbb-4adc-8c26-bc161b056f2a",
   "metadata": {},
   "outputs": [
    {
     "name": "stdout",
     "output_type": "stream",
     "text": [
      "[[-41.69981308707492, -26.46511482428977, 15, -26.46511482428977, array([ 15.23469826,  30.91905256,  45.17115108,  60.43974932,\n",
      "        75.5677963 ,  90.29426103, 105.3740554 , 120.37647661,\n",
      "       135.52071945, 150.3514626 ]), 1], [-39.46911153849706, -24.234413275711912, 15, -24.234413275711912, array([ 15.23469826,  30.91905256,  45.17115108,  60.43974932,\n",
      "        75.5677963 ,  90.29426103, 105.3740554 , 120.37647661,\n",
      "       135.52071945, 150.3514626 ]), 1], [-37.35819418634011, -22.123495923554955, 15, -22.123495923554955, array([ 15.23469826,  30.91905256,  45.17115108,  60.43974932,\n",
      "        75.5677963 ,  90.29426103, 105.3740554 , 120.37647661,\n",
      "       135.52071945, 150.3514626 ]), 1], [-35.36062885964808, -20.12593059686293, 15, -20.12593059686293, array([ 15.23469826,  30.91905256,  45.17115108,  60.43974932,\n",
      "        75.5677963 ,  90.29426103, 105.3740554 , 120.37647661,\n",
      "       135.52071945, 150.3514626 ]), 1], [-33.4703287821368, -18.235630519351645, 15, -18.235630519351645, array([ 15.23469826,  30.91905256,  45.17115108,  60.43974932,\n",
      "        75.5677963 ,  90.29426103, 105.3740554 , 120.37647661,\n",
      "       135.52071945, 150.3514626 ]), 1], [-31.681534025193123, -16.44683576240797, 15, -16.44683576240797, array([ 15.23469826,  30.91905256,  45.17115108,  60.43974932,\n",
      "        75.5677963 ,  90.29426103, 105.3740554 , 120.37647661,\n",
      "       135.52071945, 150.3514626 ]), 1], [-29.988793956811, -14.75409569402585, 15, -14.75409569402585, array([ 15.23469826,  30.91905256,  45.17115108,  60.43974932,\n",
      "        75.5677963 ,  90.29426103, 105.3740554 , 120.37647661,\n",
      "       135.52071945, 150.3514626 ]), 1], [-28.386950632984366, -13.152252370199216, 15, -13.152252370199216, array([ 15.23469826,  30.91905256,  45.17115108,  60.43974932,\n",
      "        75.5677963 ,  90.29426103, 105.3740554 , 120.37647661,\n",
      "       135.52071945, 150.3514626 ]), 1], [-26.871123080948937, -11.636424818163787, 15, -11.636424818163787, array([ 15.23469826,  30.91905256,  45.17115108,  60.43974932,\n",
      "        75.5677963 ,  90.29426103, 105.3740554 , 120.37647661,\n",
      "       135.52071945, 150.3514626 ]), 1], [-25.436692426382372, -10.201994163597224, 15, -10.201994163597224, array([ 15.23469826,  30.91905256,  45.17115108,  60.43974932,\n",
      "        75.5677963 ,  90.29426103, 105.3740554 , 120.37647661,\n",
      "       135.52071945, 150.3514626 ]), 1]]\n"
     ]
    }
   ],
   "source": [
    "#task 1, step 2: creating the nested for-loops\n",
    "\n",
    "epoch_count = 10\n",
    "sample_count =len(seed_count_array)\n",
    "best_loss = 100 #create a new variable called best_loss that identifies the parameters used to get the smallest loss\n",
    "best_params_list = []\n",
    "\n",
    "predicted_multiplier = random.uniform(-100, 100)\n",
    "loss = calculate_loss(predicted_multiplier*seed_count_array[0], apple_height_array[0])\n",
    "\n",
    "for i in range(epoch_count):\n",
    "    for j in range(sample_count):\n",
    "        predicted_multiplier = predict_multiplier(predicted_multiplier, loss)\n",
    "        loss = calculate_loss(predicted_multiplier*seed_count_array[j], apple_height_array[j])\n",
    "        if abs (loss)<best_loss:\n",
    "            best_loss = abs(loss)\n",
    "            best_params_list.append([loss, predicted_multiplier, actual_multiplier, predicted_multiplier*seed_count_array[j], apple_height_array, seed_count_array[j]])#check this line\n",
    "print(best_params_list)\n",
    "                                    \n",
    "\n",
    "#for epoch in range(epoch_count): #outer loops is the number of times you're going through the inner 10 samples\n",
    "    #print('loss, guess, actual_multiplier, prediction, apple_height_array[sample], seed_count_array[sample]')\n",
    "    #for sample in range(len(seed_count_array)): #inner loop\n",
    "        #guess = predict_multiplier(loss, prediction_updated)\n",
    "        #prediction = guess*seed_count_array[sample]\n",
    "        #loss = calculate_loss(apple_height_array[sample], prediction) #include index [sample] so it doesnt go through the array\n",
    "        #params = (loss, guess, actual_multiplier, prediction, apple_height_array[sample], seed_count_array[sample])\n",
    "        #if abs(loss) < abs(best_loss): #abs takes the absolute value, as this can be positive or negative\n",
    "            #best_loss = loss\n",
    "            #best_params_list.append(params) #add this to update the best_params_list everytime a new best_loss is found\n",
    "#print(best_params_list)   "
   ]
  },
  {
   "cell_type": "code",
   "execution_count": 73,
   "id": "03247553-55da-4798-b38c-4be3fe7009fc",
   "metadata": {},
   "outputs": [
    {
     "name": "stdout",
     "output_type": "stream",
     "text": [
      "-83.76530173721486\n",
      "loss, guess, actual_multiplier, prediction, apple_height_array[sample], seed_count_array[sample]\n",
      "(-83.76530173721486, 99, 15, 99, 15.23469826278515, 1)\n"
     ]
    }
   ],
   "source": [
    "print(best_loss)\n",
    "for row in best_params_list:\n",
    "    print(row)"
   ]
  },
  {
   "cell_type": "code",
   "execution_count": null,
   "id": "98229f5a-62d2-4892-a00f-5a29ed5fd545",
   "metadata": {},
   "outputs": [],
   "source": []
  },
  {
   "cell_type": "code",
   "execution_count": null,
   "id": "6ab1f937-47af-42a8-997f-49e90aa9c706",
   "metadata": {},
   "outputs": [],
   "source": []
  }
 ],
 "metadata": {
  "kernelspec": {
   "display_name": "Python 3 (ipykernel)",
   "language": "python",
   "name": "python3"
  },
  "language_info": {
   "codemirror_mode": {
    "name": "ipython",
    "version": 3
   },
   "file_extension": ".py",
   "mimetype": "text/x-python",
   "name": "python",
   "nbconvert_exporter": "python",
   "pygments_lexer": "ipython3",
   "version": "3.9.12"
  }
 },
 "nbformat": 4,
 "nbformat_minor": 5
}
